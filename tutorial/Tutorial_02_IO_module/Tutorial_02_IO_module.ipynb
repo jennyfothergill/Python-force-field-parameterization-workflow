{
 "cells": [
  {
   "cell_type": "markdown",
   "metadata": {
    "lines_to_next_cell": 2
   },
   "source": [
    "## Tutorial 02 IO module"
   ]
  },
  {
   "cell_type": "markdown",
   "metadata": {},
   "source": [
    "### Description: "
   ]
  },
  {
   "cell_type": "markdown",
   "metadata": {
    "lines_to_next_cell": 2
   },
   "source": [
    "This tutorial demonstrates how to use functions in IO module,\n",
    "which interfaces with fortranAPI library to read the dcd, xyz, and txt \n",
    "trajectory. The module \"IO.reader\" you imported is basically a wrapper to\n",
    "the fortranAPI IO module.\n",
    "* Part 1: Loading the .txt file (benchmark against np.loadtxt)\n",
    "* Part 2: Loading the .txt traj (e.g. lammps.traj)\n",
    "* Part 3: Loading the .dcd file (single or multiple configurations) \n",
    "* Part 4: Loading the .xyz file (single or multiple configurations) \n",
    "* Part 5: Automatic dectection of .dcd or .xyz files (use the file extension to choose reader) "
   ]
  },
  {
   "cell_type": "code",
   "execution_count": 53,
   "metadata": {},
   "outputs": [],
   "source": [
    "# Python standard library: \n",
    "import numpy as np  \n",
    "import multiprocessing as mp\n",
    "import time "
   ]
  },
  {
   "cell_type": "code",
   "execution_count": 54,
   "metadata": {},
   "outputs": [],
   "source": [
    "# Local library: \n",
    "from IO import reader"
   ]
  },
  {
   "cell_type": "markdown",
   "metadata": {},
   "source": [
    "### Part 1. Loading the .txt data (single or multiple columns)"
   ]
  },
  {
   "cell_type": "markdown",
   "metadata": {},
   "source": [
    "#### Load single column data file (IO.reader.np_loadtxt):"
   ]
  },
  {
   "cell_type": "code",
   "execution_count": 55,
   "metadata": {},
   "outputs": [
    {
     "name": "stdout",
     "output_type": "stream",
     "text": [
      "IO.reader.np_loadtxt reader took: 0.0020392 s\n",
      "Numpy loadtxt took: 0.0023801 s\n"
     ]
    }
   ],
   "source": [
    "# read 500 configuration of potential energy of in single column file\n",
    "txtfile = \"Ref.eng\"\n",
    "start = time.time()\n",
    "data = reader.np_loadtxt(txtfile,skiprows=50)\n",
    "time_took = time.time() - start\n",
    "print (\"IO.reader.np_loadtxt reader took: %.7f s\" % time_took)\n",
    "##### compared with np.loadtxt:  \n",
    "start = time.time() \n",
    "data = np.loadtxt(txtfile,skiprows=50)\n",
    "time_took = time.time()  - start \n",
    "print (\"Numpy loadtxt took: %.7f s\"%time_took)"
   ]
  },
  {
   "cell_type": "code",
   "execution_count": 56,
   "metadata": {},
   "outputs": [
    {
     "name": "stdout",
     "output_type": "stream",
     "text": [
      "IO.reader.np_loadtxt took: 0.0012155 s\n",
      "Numpy loadtxt took: 0.0010974 s\n"
     ]
    }
   ],
   "source": [
    "##### Load multiple columns data file (IO.reader.np_loadtxt):\n",
    "txtfile = \"Ref.gr\" \n",
    "start = time.time() \n",
    "data = reader.np_loadtxt(txtfile,skiprows=10)\n",
    "time_took = time.time() - start\n",
    "print (\"IO.reader.np_loadtxt took: %.7f s\" % time_took)\n",
    "##### np.loadtxt: \n",
    "start = time.time() \n",
    "data = np.loadtxt(txtfile,skiprows=10)\n",
    "time_took = time.time()  - start \n",
    "print (\"Numpy loadtxt took: %.7f s\" % time_took)"
   ]
  },
  {
   "cell_type": "markdown",
   "metadata": {},
   "source": [
    "### Part 2. Loading the .txt trajectory (for reading force data from LAMMPS.traj)"
   ]
  },
  {
   "cell_type": "code",
   "execution_count": 57,
   "metadata": {},
   "outputs": [
    {
     "name": "stdout",
     "output_type": "stream",
     "text": [
      "Force data read by each core: [ 1.932268  -4.121534   3.016975  ... -3.847331  -1.082262   0.4223445]\n",
      "Force data read by each core: [-3.914211 -8.858379 -1.881075 ... -2.038855  5.498904  5.777993]\n"
     ]
    }
   ],
   "source": [
    "# the trajectory containing intermolecular force data (N x 3) dimensions\n",
    "# The trajectory has certain formats and some rows or columns have to be skipped\n",
    "lammpstrj = \"Ref.force\"\n",
    "# which configuration to start with\n",
    "start_at = 1\n",
    "# number of cores used for multiprocessing\n",
    "num_cores = 2\n",
    "# maximum number of configurations read into memory by each core\n",
    "buffer_size = 1000\n",
    "# initialize the workers for multiprocessing\n",
    "workers = mp.Pool(num_cores)\n",
    "# Step 1: get number of atoms\n",
    "total_atoms = reader.read_LAMMPS_traj_num_atoms(lammpstrj)\n",
    "# Step 2: get number of lines:\n",
    "num_lines, num_columns = reader.get_lines_columns(lammpstrj)\n",
    "# Step 3: get the number of configurations:\n",
    "num_configs = reader.get_num_configs_LAMMPS_traj(total_atoms, num_lines)\n",
    "# Step 4: get the force data from LAMMPS traj\n",
    "# the \"Ref.force\" contains 100 configurations\n",
    "# Jobs are launched through non-blocking \"apply_async\"\n",
    "force_data = reader.read_LAMMPS_traj_in_parallel(lammpstrj,\n",
    "                                                 num_cores,\n",
    "                                                 total_atoms,\n",
    "                                                 num_configs,\n",
    "                                                 start_at,\n",
    "                                                 buffer_size,\n",
    "                                                 workers)\n",
    "# process the data extracted by each core\n",
    "for each_core in force_data:  \n",
    "    print (\"Force data read by each core:\", each_core.get())"
   ]
  },
  {
   "cell_type": "markdown",
   "metadata": {},
   "source": [
    "### Part 3. Loading the .dcd data (Load single or multiple configurations) "
   ]
  },
  {
   "cell_type": "code",
   "execution_count": 58,
   "metadata": {},
   "outputs": [
    {
     "name": "stdout",
     "output_type": "stream",
     "text": [
      "In the 5th configuration, 1st and 100th atoms's coordinates are:  [15.269804 19.812832 12.232417] [ 9.592289 19.21751  17.772764]\n",
      "In the 5th configuration, the box size is  [24.88496709 24.88496709 24.88496709]\n",
      "In the 1st configuration, 100th atoms's xyz coordinate is:  [20.177244 19.740591  9.470802] [20.177244 19.740591  9.470802]\n",
      "In the 10th configuration, 100th atom's xyz coordinate is:  [ 9.175627  8.712902 18.372858] [ 9.175627  8.712902 18.372858]\n",
      "In the 1st configuration, the box size is:  [24.82479352 24.82479352 24.82479352]\n",
      "In the 10th configuration, the box size is:  [24.72102089 24.72102089 24.72102089]\n"
     ]
    }
   ],
   "source": [
    "# dcd file is a binary file containing box and xyz coordinates in single-precision\n",
    "dcdfile = \"traj.dcd\"\n",
    "# The total number of atoms and total number of configurations in the trajectory\n",
    "# total_frames = total_configurations here !\n",
    "total_atoms, total_frames = reader.call_read_dcd_header(dcdfile)\n",
    "# Load a single configuration:\n",
    "# the 5th configuration in the trajectory\n",
    "current_frame = 5 \n",
    "# \"xyz\" is a 3-dimension (N X 3) cartesian coordinate matrix; N is the total number of atoms\n",
    "# \"box\" is the 3-dimensions array of system box size (cubic box assumed)\n",
    "# \"return_numpy=True\": the returned arrays are numpy or ctypes array\n",
    "xyz, box = reader.call_read_dcd_xyz_box(dcdfile, current_frame, total_atoms, return_numpy=True)\n",
    "print (\"In the 5th configuration, 1st and 100th atoms's coordinates are: \", xyz[0,:], xyz[99,:])\n",
    "print (\"In the 5th configuration, the box size is \", box) \n",
    "# Load multiple configurations at once:\n",
    "# \"start_at\": which configuration to start in a trajectory\n",
    "# \"num_configs\": how many configurations to be read into memory at once starting from \"start_at\"\n",
    "# \"start_at\" will be included in \"num_configs\"\n",
    "# \"xyz\" has a dimension of (M * N * 3), M is the configuration, N is the number of atoms in each configuration\n",
    "# \"box\" has a dimension of (M * 3)\n",
    "start_at=1 \n",
    "num_configs=20\n",
    "xyz, box = reader.call_read_dcd_xyz_box_in_chunk(dcdfile, start_at, num_configs, total_atoms, return_numpy=True)\n",
    "print (\"In the 1st configuration, 100th atoms's xyz coordinate is: \", xyz[0,99,:], xyz[0,99,:])\n",
    "print (\"In the 10th configuration, 100th atom's xyz coordinate is: \", xyz[9,99,:], xyz[9,99,:])\n",
    "print (\"In the 1st configuration, the box size is: \", box[0,:])\n",
    "print (\"In the 10th configuration, the box size is: \", box[9,:])"
   ]
  },
  {
   "cell_type": "markdown",
   "metadata": {
    "lines_to_next_cell": 2
   },
   "source": [
    "### Part 4. Loading the .xyz data (single or multiple configurations)"
   ]
  },
  {
   "cell_type": "code",
   "execution_count": 59,
   "metadata": {},
   "outputs": [
    {
     "name": "stdout",
     "output_type": "stream",
     "text": [
      "In the 40th configuration, 1st and 100th atoms's coordinates are:  [ 8.86587  9.07181 15.499  ] [24.3625  13.3596   2.80475]\n",
      "No box information from the xyz trajectory\n",
      "In the 40th configuration, 1st and 100th atoms's coordinates are:  [ 8.86587  9.07181 15.499  ] [24.3625  13.3596   2.80475]\n",
      "No box information from the xyz trajectory\n",
      "In the 1st configuration, 1st and 100th atoms's coordinates are:  [18.8963 12.0111 16.9744] [ 2.02758  2.51342 16.9375 ]\n",
      "In the 1st configuration, the box size is:  [24.14 24.14 24.14]\n",
      "In the 5th configuration, 100th atom's xyz coordinate is:  [ 2.02758  2.51342 16.9375 ] [ 2.02758  2.51342 16.9375 ]\n",
      "In the 5th configuration, the box size is:  [24.14 24.14 24.14]\n"
     ]
    }
   ],
   "source": [
    "# Loading a xyz file with no box information: a single configuration\n",
    "xyzfile = \"chunk_no_box.xyz\"\n",
    "total_atoms, total_frames = reader.call_read_xyz_header(xyzfile)\n",
    "# read 40th configuration in the trajectory \n",
    "current_frame = 40 \n",
    "# No box information in some types of xyz trajectory files\n",
    "xyz = reader.call_read_xyz_xyz_box(xyzfile,current_frame,total_atoms,read_box=False,return_numpy=True) \n",
    "print (\"In the 40th configuration, 1st and 100th atoms's coordinates are: \", xyz[0,:], xyz[99,:])\n",
    "print (\"No box information from the xyz trajectory\")\n",
    "# Load multiple configurations at once:\n",
    "start = 1 \n",
    "num_configs = 401 \n",
    "xyz = reader.call_read_xyz_xyz_box_chunk(xyzfile,total_atoms,start,num_configs,read_box=False,return_numpy=True) \n",
    "print (\"In the 40th configuration, 1st and 100th atoms's coordinates are: \", xyz[39,0,:], xyz[39,99,:])\n",
    "print (\"No box information from the xyz trajectory\")\n",
    "### Loading xyz file with box information:\n",
    "# Load a single configuration:\n",
    "xyzfile = \"chunk_with_box.xyz\"\n",
    "total_atoms,total_frames = reader.call_read_xyz_header(xyzfile)\n",
    "# read 1st configuration in the trajectory\n",
    "current_frame = 1 \n",
    "xyz,box= reader.call_read_xyz_xyz_box(xyzfile,current_frame,total_atoms,read_box=True,return_numpy=True) \n",
    "print (\"In the 1st configuration, 1st and 100th atoms's coordinates are: \", xyz[0,:], xyz[99,:])\n",
    "print (\"In the 1st configuration, the box size is: \", box)\n",
    "# Load multiple configurations at once:\n",
    "start = 1 \n",
    "num_configs = 10 \n",
    "xyz,box = reader.call_read_xyz_xyz_box_chunk(xyzfile,total_atoms,start,num_configs,read_box=True,return_numpy=True)\n",
    "print (\"In the 5th configuration, 100th atom's xyz coordinate is: \", xyz[4,99,:], xyz[4,99,:])\n",
    "print (\"In the 5th configuration, the box size is: \", box[4,:])"
   ]
  },
  {
   "cell_type": "markdown",
   "metadata": {},
   "source": [
    "### Part 5. Automatic dectection of .xyz or .dcd trajectory:"
   ]
  },
  {
   "cell_type": "markdown",
   "metadata": {},
   "source": [
    "* Try generic functions: \"call_read_header\", \"call_read_traj\", and \"call_read_chunk_traj\"\n",
    "* These genric functions will automatically switch a reader based on the file extension\n",
    "* currently only .xyz and .dcd file are supported. "
   ]
  },
  {
   "cell_type": "code",
   "execution_count": 60,
   "metadata": {
    "lines_to_next_cell": 2
   },
   "outputs": [
    {
     "name": "stdout",
     "output_type": "stream",
     "text": [
      "In the 2nd configuration, 1st and 100th atoms's coordinates are:  [18.655502  6.137745 19.60455 ] [ 4.869126 16.89089  11.321374]\n",
      "In the 2nd configuration, the box size is:  [24.81109368 24.81109368 24.81109368]\n",
      "In the 10th configuration, 1st and 100th atoms's coordinates are:  [ 2.9498017 15.097159  12.751057 ] [16.023472  8.232779 15.639951]\n",
      "In the 10th configuration, the box size is:  [24.84159395 24.84159395 24.84159395]\n"
     ]
    }
   ],
   "source": [
    "# Try dcd file:\n",
    "dcdfile=\"traj.dcd\"\n",
    "total_atoms,total_frames = reader.call_read_header(dcdfile) \n",
    "# Load a single configuration: \n",
    "current_frame = 2\n",
    "xyz,box = reader.call_read_traj(dcdfile,current_frame,total_atoms,return_numpy=True)\n",
    "print (\"In the 2nd configuration, 1st and 100th atoms's coordinates are: \", xyz[0,:], xyz[99,:])\n",
    "print (\"In the 2nd configuration, the box size is: \", box) \n",
    "# Load multiple configurations at once:\n",
    "start = 2 \n",
    "num_configs = 20 \n",
    "xyz,box = reader.call_read_chunk_traj(dcdfile,start,num_configs,total_atoms,return_numpy=True) \n",
    "print (\"In the 10th configuration, 1st and 100th atoms's coordinates are: \", xyz[9,0,:], xyz[9,99,:])\n",
    "print (\"In the 10th configuration, the box size is: \", box[9,:]) "
   ]
  },
  {
   "cell_type": "code",
   "execution_count": 61,
   "metadata": {
    "lines_to_next_cell": 2
   },
   "outputs": [
    {
     "name": "stdout",
     "output_type": "stream",
     "text": [
      "In the 2nd configuration, 1st and 100th atoms's coordinates are:  [18.8963 12.0111 16.9744] [ 2.02758  2.51342 16.9375 ]\n",
      "In the 2nd configuration, the box size is:  [24.14 24.14 24.14]\n",
      "In the 10th configuration, 1st and 100th atoms's coordinates are:  [18.8963 12.0111 16.9744] [ 2.02758  2.51342 16.9375 ]\n",
      "In the 10th configuration, the box size is:  [24.14 24.14 24.14]\n"
     ]
    }
   ],
   "source": [
    "# Try xyz file:\n",
    "# Note that all configurations in \"chunk_with_box.xyz\" are just a copy of first configuration \n",
    "xyzfile=\"chunk_with_box.xyz\"\n",
    "total_atoms,total_frames = reader.call_read_header(xyzfile) \n",
    "# Load a single configuration: \n",
    "current_frame = 2\n",
    "xyz,box = reader.call_read_traj(xyzfile,current_frame,total_atoms,return_numpy=True)\n",
    "print (\"In the 2nd configuration, 1st and 100th atoms's coordinates are: \", xyz[0,:], xyz[99,:])\n",
    "print (\"In the 2nd configuration, the box size is: \", box) \n",
    "# Load multiple configurations at once:\n",
    "start = 2 \n",
    "num_configs = 20 \n",
    "xyz,box = reader.call_read_chunk_traj(xyzfile,start,num_configs,total_atoms,return_numpy=True) \n",
    "print (\"In the 10th configuration, 1st and 100th atoms's coordinates are: \", xyz[9,0,:], xyz[9,99,:])\n",
    "print (\"In the 10th configuration, the box size is: \", box[9,:]) "
   ]
  }
 ],
 "metadata": {
  "jupytext": {
   "cell_metadata_filter": "-all",
   "main_language": "python",
   "notebook_metadata_filter": "-all"
  },
  "kernelspec": {
   "display_name": "Python 3",
   "language": "python",
   "name": "python3"
  },
  "language_info": {
   "codemirror_mode": {
    "name": "ipython",
    "version": 3
   },
   "file_extension": ".py",
   "mimetype": "text/x-python",
   "name": "python",
   "nbconvert_exporter": "python",
   "pygments_lexer": "ipython3",
   "version": "3.7.6"
  }
 },
 "nbformat": 4,
 "nbformat_minor": 4
}
