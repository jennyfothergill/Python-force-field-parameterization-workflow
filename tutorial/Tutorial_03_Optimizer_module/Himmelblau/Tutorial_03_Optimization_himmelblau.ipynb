{
 "cells": [
  {
   "cell_type": "markdown",
   "metadata": {},
   "source": [
    "# Tutorial 03: Solving for Himmelblau function"
   ]
  },
  {
   "cell_type": "code",
   "execution_count": null,
   "metadata": {},
   "outputs": [],
   "source": [
    "# After you successfully install the package and activate a conda environment\n",
    "from optimizer.gradient_free import NelderMeadSimplex\n",
    "import numpy as np\n",
    "import matplotlib.pyplot as plt "
   ]
  },
  {
   "cell_type": "code",
   "execution_count": null,
   "metadata": {
    "lines_to_next_cell": 1
   },
   "outputs": [],
   "source": [
    "class Himmelblau():\n",
    "\n",
    "    def __init__(self, x_ranges, y_ranges):\n",
    "\n",
    "        self.x_limit = np.arange(x_ranges[0],x_ranges[1], x_ranges[-1])\n",
    "\n",
    "        self.y_limit = np.arange(y_ranges[0],y_ranges[1], y_ranges[-1])\n",
    "\n",
    "        self.z_mat = np.zeros((self.x_limit.size, self.y_limit.size))\n",
    "\n",
    "        counter_x = 0\n",
    "\n",
    "        for x in self.x_limit:\n",
    "\n",
    "            counter_y = 0\n",
    "\n",
    "            for y in self.y_limit:\n",
    "\n",
    "                self.z_mat[counter_x, counter_y] = np.log10(self.compute_z(np.array([x, y])))\n",
    "    \n",
    "                counter_y += 1\n",
    "\n",
    "            counter_x += 1\n",
    "\n",
    "        return None\n",
    "\n",
    "    def visualize(self):\n",
    "\n",
    "        plt.xlabel(\"x\")\n",
    "        plt.ylabel(\"y\")\n",
    "        plt.contour(self.x_limit, self.y_limit, np.transpose(self.z_mat), 20)\n",
    "        plt.show()\n",
    "\n",
    "        return None\n",
    "\n",
    "    def compute_z(self, parameters):\n",
    "\n",
    "        predict_val = ((parameters[0]**2 + parameters[1] - 11 )**2 +\n",
    "                       (parameters[0] + parameters[1]**2 -7)**2)\n",
    "        \n",
    "        return predict_val\n",
    "\n",
    "    # \"update\" must be here. For force-matching, rdf-matching ..., this function\n",
    "    # will be used to update the best predicted properties. \n",
    "    def update(self, func_expand, best_func, status=None):\n",
    "\n",
    "        pass\n",
    "\n",
    "        return None \n",
    "\n",
    "    # method \"optimize\" must be here. the optimizer will assume every \n",
    "    # passed objective function will have a attribute of \"optimize\"\n",
    "    # \"para_type_lst\", and \"status\" also must be here, though they are not used\n",
    "    def optimize(self, para_type_lst, parameters, status=None):\n",
    "\n",
    "        return self.compute_z(parameters) "
   ]
  },
  {
   "cell_type": "code",
   "execution_count": null,
   "metadata": {},
   "outputs": [],
   "source": [
    "# input file name\n",
    "input_file = \"in_himmelblau\""
   ]
  },
  {
   "cell_type": "code",
   "execution_count": null,
   "metadata": {},
   "outputs": [],
   "source": [
    "# No lines skipped:\n",
    "skipped_lines = 0"
   ]
  },
  {
   "cell_type": "code",
   "execution_count": null,
   "metadata": {},
   "outputs": [],
   "source": [
    "# The solution space of Himmelblau function\n",
    "x = [-8, 8, 0.15]\n",
    "y = [-8, 8, 0.15]"
   ]
  },
  {
   "cell_type": "code",
   "execution_count": null,
   "metadata": {},
   "outputs": [],
   "source": [
    "# initialize test objective functions\n",
    "himmeblau_obj = Himmelblau(x, y)"
   ]
  },
  {
   "cell_type": "code",
   "execution_count": null,
   "metadata": {},
   "outputs": [],
   "source": [
    "# Visualize the solution space of Himmelblau\n",
    "# local minmums:\n",
    "# Solution 1: x = 3.0, y = 2.0 \n",
    "# Solution 2: x = -2.8051, y = 3.1313\n",
    "# Solution 3: x = -3.7793, y = -3.2832\n",
    "# Solution 4: x = 3.5844, y = -1.8481\n",
    "# local maximum: \n",
    "# Solution 1: x = -0.270845, y = -0.923039\n",
    "himmeblau_obj.visualize() "
   ]
  },
  {
   "cell_type": "code",
   "execution_count": null,
   "metadata": {},
   "outputs": [],
   "source": [
    "# initialize optimizer ...\n",
    "optimize_himme = NelderMeadSimplex(input_file,\n",
    "                                   himmeblau_obj,\n",
    "                                   skipped=skipped_lines)\n",
    "# Optimization starts ...\n",
    "optimize_himme.run_optimization()"
   ]
  },
  {
   "cell_type": "code",
   "execution_count": null,
   "metadata": {},
   "outputs": [],
   "source": [
    "# Load the solutions:\n",
    "with open(\"best_parameters.txt\") as content: \n",
    "\n",
    "    for line in content:\n",
    "\n",
    "        solution = np.array(line.split()).astype(np.float64)\n",
    "\n",
    "    x, y = solution\n",
    "    print(\"The Minimum found is x = %.4f, y = %.4f\" % (x, y))"
   ]
  },
  {
   "cell_type": "code",
   "execution_count": null,
   "metadata": {},
   "outputs": [],
   "source": [
    "# initialize optimizer ...\n",
    "optimize_himme = NelderMeadSimplex(input_file,\n",
    "                                   himmeblau_obj,\n",
    "                                   skipped=skipped_lines,\n",
    "                                   optimize_mode=\"max\")\n",
    "# Optimization starts ...\n",
    "optimize_himme.run_optimization()"
   ]
  },
  {
   "cell_type": "code",
   "execution_count": null,
   "metadata": {},
   "outputs": [],
   "source": [
    "# Load the solutions:\n",
    "with open(\"best_parameters.txt\") as content: \n",
    "\n",
    "    for line in content:\n",
    "\n",
    "        solution = np.array(line.split()).astype(np.float64)\n",
    "\n",
    "    x, y = solution\n",
    "    print(\"The Maximum found is  x = %.4f, y = %.4f\" % (x, y))"
   ]
  }
 ],
 "metadata": {
  "jupytext": {
   "cell_metadata_filter": "-all",
   "main_language": "python",
   "notebook_metadata_filter": "-all"
  }
 },
 "nbformat": 4,
 "nbformat_minor": 4
}
