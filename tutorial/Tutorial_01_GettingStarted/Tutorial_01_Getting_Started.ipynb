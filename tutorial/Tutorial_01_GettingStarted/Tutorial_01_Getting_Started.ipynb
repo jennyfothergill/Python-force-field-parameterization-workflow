{
 "cells": [
  {
   "cell_type": "markdown",
   "metadata": {},
   "source": [
    "## Tutorial 01:  Program Descriptions"
   ]
  },
  {
   "cell_type": "markdown",
   "metadata": {},
   "source": [
    "### Part 1: usages\n",
    "\n",
    "#### It is recommended that you create and activate a specific conda environment for the package installation. Once the package is installed successfully, an exectuable \"optimize\" should be on your environment search path from the command-line interface. \n",
    "\n",
    "#### e.g. \"optimize -c 4 -j force_mathcing_tutorial -i input_file -Ref ../../ReferenceData -prep ../../prepsystem\"\n",
    "\n",
    "* -c (cores) \"number of cores assigned\" (int)\n",
    "* -j (jobid) \"A user-defined name for the job folder\" (str)\n",
    "* -m (Optional) (mode)  \"debug\" or \"run (str); The default is \"run\" and the \"debug\" is under development\n",
    "* -i (input) \"input file name\" (str)\n",
    "* -Ref (Optional) \"reference folder path\" (str)\n",
    "* -prep (Optional) \"template folder path\" (str)"
   ]
  },
  {
   "cell_type": "markdown",
   "metadata": {},
   "source": [
    "### Part 2: The folder structures\n",
    "\n",
    "<img src=\"folder_structure.png\" width=\"1600\" height=\"1200\">\n",
    "\n",
    "\n",
    "* The \"Run\" folder is your working folder. It can be renamed. The \"ReferenceData\" folder is the default name for the reference data folder and the \"prepsystem\" is the default name for the template folder. Both \"ReferenceData\" and \"prepsystem\" should share the same hierarchical folder structures inside. The default location of \"ReferenceData\" is \"../ReferenceData\" relative to your current working folder, and so does the \"prepsystem\" folder. They can be modified through the command-line argument: \"-Ref\" and \"-prep\". \n",
    "\n",
    "* Inside the \"Run\" folder, you must have an input file there. The command above can be run either from the command-line interface or from a slurm script. \n",
    "* Once your job starts, a \"job\" folder will be created along with a \"job.log\" file. \n",
    "* Inside the job folder, \n",
    "    1. A \"Predicted\" folder will be created, which shares the same structure as that of the template folder from \"prepsystem\". \n",
    "    2. A \"Output\" folder will be created, in which the best predicted properties, objective function, and parameters files will be updated \n",
    "    3. A \"Restart\" folder will be created, in which one restart file contains restarting information from every n iteration and another restart file contains the current restarting information. Either one of them can be used as an input file to restart the optimization."
   ]
  },
  {
   "cell_type": "markdown",
   "metadata": {},
   "source": [
    "### Part 3: The input file\n",
    "\n",
    "#### units for performing objective function evaluations: \n",
    "\n",
    "real   \n",
    "\n",
    "#### Define objective function type and its arguments:\n",
    "\n",
    "force mW_300K_1bar_500 1 2 2 bf 5000 eng abs w 0.0 1.0\n",
    "\n",
    "#### The shell command to run the sampling from the command-line  \n",
    "* The extension of input file names e.g. \"in.force\" or \"in.rdf\" should be the same as objective function type \n",
    "* The current default sampling mehod is LAMMPS. \n",
    "\n",
    "module load intel && srun -n %d -N1 -c1 --exclusive --mpi=pmi2 lmp_ml_water < in.%s\n",
    "\n",
    "#### Spcifying dumping frequencies: \n",
    "* 1st column is the dumping frequency of current best parameters/obj. \n",
    "* 2nd column is the dumping frequency of restart simplex.  \n",
    "\n",
    "5 5 \n",
    "\n",
    "#### The initial guess of force-field type and its associated parameters\n",
    "stillinger_weber 6.589  2.0925  1.87  29.15  1.02  -0.303333333333 7.049556277  0.6822245584  3.2  0.4 0.0  \n",
    "\n",
    "#### The initial guess parameters to be fitted (1) and to be fixed (0): \n",
    "\n",
    "1 1 1 1 1 1 0 1 1 1 0   \n",
    "\n",
    "#### The initial guess parameters to be bounded (format: \"index\", \"lower bound\", \"upper bound\") : \n",
    "* \"10\" is the 10th parameter in the initial guess, which is \"0.4\"\n",
    "* \"0\" is the lower bound, and \"5\" is the uppper bound. \n",
    "\n",
    "10 0 5 \n",
    "\n",
    "#### The termination criterion:\n",
    "* 1st column is the max number of iteration.\n",
    "* 2nd column is the tolerance for parameters convergence.\\\n",
    "* 3rd column is the tolerance for objective function convergence. \n",
    "\n",
    "25000 1e-14 1e-14\n",
    "\n",
    "#### create (Perturb) or use existing vertices (Restart): \n",
    "\n",
    "Nelder-Mead Perturb random 0.4 "
   ]
  },
  {
   "cell_type": "code",
   "execution_count": null,
   "metadata": {},
   "outputs": [],
   "source": []
  }
 ],
 "metadata": {
  "kernelspec": {
   "display_name": "Python 3",
   "language": "python",
   "name": "python3"
  },
  "language_info": {
   "codemirror_mode": {
    "name": "ipython",
    "version": 3
   },
   "file_extension": ".py",
   "mimetype": "text/x-python",
   "name": "python",
   "nbconvert_exporter": "python",
   "pygments_lexer": "ipython3",
   "version": "3.7.6"
  }
 },
 "nbformat": 4,
 "nbformat_minor": 4
}
