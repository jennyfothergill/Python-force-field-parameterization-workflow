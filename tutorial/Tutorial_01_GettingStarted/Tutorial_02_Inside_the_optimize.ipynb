{
 "cells": [
  {
   "cell_type": "markdown",
   "metadata": {},
   "source": [
    "# Tutorial 02:  Inside the \"optimize\""
   ]
  },
  {
   "cell_type": "code",
   "execution_count": 5,
   "metadata": {},
   "outputs": [],
   "source": [
    "#!/usr/bin/env python3\n",
    "\n",
    "# Standard python library\n",
    "\n",
    "# Local library:\n",
    "import IO.user_provided\n",
    "import objective.setup_objective\n",
    "import optimizer.gradient_free\n",
    "import objective.compute_objective\n",
    "\n",
    "# Third party library:"
   ]
  },
  {
   "cell_type": "markdown",
   "metadata": {},
   "source": [
    "----------------------------------------------------------------------------------\n",
    "###                       Part 1: taking the input from the command-line interface                         \n",
    "----------------------------------------------------------------------------------\n",
    "#### Purposes: \n",
    "* obtain the input parameters from the command-line interface\n",
    "\n",
    "#### Return:\n",
    "* main_logger: an object that defines the log file output (you don't have to do anything with it; all the logging information from other modules will be sent to the main logger object)\n",
    "* TOTAL_CORES: Number of cores assigned by slurm scheduler (int)\n",
    "* INPUT: The input file name (str)\n",
    "* JOBID: a user-provided name typically a combination of Slurm job id and user-provided name (str)\n",
    "* Ref: Reference data folder path (str)\n",
    "* prep: template folder path for running sampling (str) "
   ]
  },
  {
   "cell_type": "code",
   "execution_count": 6,
   "metadata": {},
   "outputs": [
    {
     "name": "stdout",
     "output_type": "stream",
     "text": [
      "cores requested: 2 <class 'int'>\n",
      "input file name: in_obj <class 'str'>\n",
      "Job id: tutorial <class 'str'>\n",
      "Reference data path: ../force_matching_tutorial/ReferenceData <class 'str'>\n",
      "prepsystem data path: ../force_matching_tutorial/prepsystem <class 'str'>\n"
     ]
    }
   ],
   "source": [
    "# For the interactive job: (For Tutorial only):\n",
    "(main_logger,\n",
    " TOTAL_CORES,\n",
    " INPUT,\n",
    " JOBID,\n",
    " Ref,\n",
    " prep) = IO.user_provided.from_command_line(jobID=\"tutorial\",\n",
    "                                           total_cores=2,\n",
    "                                           input_file=\"in_obj\",\n",
    "                                           ref_address=\"../force_matching_tutorial/ReferenceData\",\n",
    "                                           prep_address=\"../force_matching_tutorial/prepsystem\").finish_reading()\n",
    "\n",
    "\n",
    "# Running the program from command (uncomment for the normal use): \n",
    "\"\"\"\n",
    "main_logger, TOTAL_CORES, INPUT, JOBID, Ref, prep = (IO\n",
    "                                           .user_provided\n",
    "                                           .from_command_line()\n",
    "                                           .finish_reading())\n",
    "\"\"\" \n",
    "print (\"cores requested:\", TOTAL_CORES,type(TOTAL_CORES))\n",
    "print (\"input file name:\", INPUT,type(INPUT))\n",
    "print (\"Job id:\", JOBID,type(JOBID))\n",
    "print (\"Reference data path:\", Ref,type(Ref))\n",
    "print (\"prepsystem data path:\", prep,type(prep))"
   ]
  },
  {
   "cell_type": "markdown",
   "metadata": {},
   "source": [
    "----------------------------------------------------------------------------------\n",
    "###                           Part 2: set up the workflow                                \n",
    "----------------------------------------------------------------------------------\n",
    "#### Purposes: \n",
    "* Set up the job folder including \"Predicted\", \"Output\" and \"Restart\" folders inside it \n",
    "* Initialize a sampling method such LAMMPS\n",
    "* Parse the arugment of objective functions from the input file\n",
    "\n",
    "#### Return: \n",
    "* ref_dict: a python dictionary containing reference data address. Each key is the name of matching type(force,rdf ...). Each value is another dictionary containing the arugment for the sub folder in that matching type. \n",
    "* predict_dict: a python dictionary containg predicted data address. Same data structure as ref_dict\n",
    "* argument_dict: a python dictionary containing arguments needed to run objective functions inclduing number of cores requested, buffersize etc ... \n",
    "* LAMMPS: a Python class instance with the method: \"run\", to invoke simulators to perform the sampling as subprocesses and a method: \"exit\" to check the status of all jobs\n",
    "* last_line: the stopping number of lines in the input file.This includes all the objective function definitions, and commands to be invoked. Optimizer will continue from here to read the rest of input. "
   ]
  },
  {
   "cell_type": "code",
   "execution_count": 10,
   "metadata": {},
   "outputs": [
    {
     "name": "stdout",
     "output_type": "stream",
     "text": [
      "referenced data dictionary:\n",
      " {'force': {'mW_300K_1bar_500': ('/project/palmer/Jingxiang/ours_optimization/tutorial/force_matching_tutorial/ReferenceData/force/mW_300K_1bar_500',)}}\n",
      "predict data dictionary:\n",
      " {'force': {'mW_300K_1bar_500': ('/project/palmer/Jingxiang/ours_optimization/tutorial/Tutorial_01_GettingStarted/tutorial/Predicted/force/mW_300K_1bar_500',)}}\n",
      "argument dictionary: {'force': {'mW_300K_1bar_500': ('mW_300K_1bar_500', 1.0, 2, 2, 'bf 5000 eng abs w 0.0 1.0')}}\n"
     ]
    }
   ],
   "source": [
    "(ref_dict,\n",
    " predict_dict,\n",
    " argument_dict,\n",
    " LAMMPS,\n",
    " last_line) = objective.setup_objective.setup(INPUT,\n",
    "                                              TOTAL_CORES,\n",
    "                                              JOBID,\n",
    "                                              overwrite=True,\n",
    "                                              Ref_folder=Ref,\n",
    "                                              prep_folder=prep).finish()\n",
    "\n",
    "# display the data structure:\n",
    "print (\"referenced data dictionary:\\n\",ref_dict)\n",
    "\n",
    "print (\"predict data dictionary:\\n\",predict_dict)\n",
    "\n",
    "print (\"argument dictionary:\",argument_dict)"
   ]
  },
  {
   "cell_type": "markdown",
   "metadata": {},
   "source": [
    "----------------------------------------------------------------------------------\n",
    "###                          Part 3: initialize objective functions                     \n",
    "----------------------------------------------------------------------------------\n",
    "#### Purposes: \n",
    "* The \"eval_objective\" instance contains a list of objects. Each object corresponds to an instance of each type of objective function's \"load\" class. The \"load\" class provides the detailed steps of how to compute objective function and thus, it is defined uniquely for each type of matching e.g. force matching, rdf matching etc. The \"eval_objective\" will be passed to an optimizer object, and it will be invoked in every iteration to compute the overall objective function values (sums of weighted objective function values return by each load class)\n",
    "\n",
    "#### Return: \n",
    "* The \"eval_objective\" contains a method: \"optimize\" that takes an optimized set of force-field parameters, perform the sampling to compute the predicted properties, and return objective function values by comparing with reference properties. The method \"optimize\" takes \"potential type\", \"force-field parameters\", and \"status\" as arguments. Another method: \"update\" is optional but is used to update the currently best predicted properties, which will be dumped to \"Output\" folder in the job folder."
   ]
  },
  {
   "cell_type": "code",
   "execution_count": null,
   "metadata": {},
   "outputs": [],
   "source": [
    "eval_objective = (objective\n",
    "                  .compute_objective\n",
    "                  .prepare(\n",
    "                    ref_dict,\n",
    "                    predict_dict,\n",
    "                    argument_dict,\n",
    "                    LAMMPS))"
   ]
  },
  {
   "cell_type": "markdown",
   "metadata": {},
   "source": [
    "----------------------------------------------------------------------------------\n",
    "###                           Part 4: initialize and start the optimization                                 \n",
    "----------------------------------------------------------------------------------\n",
    "#### Purposes: \n",
    "* Perform optimization based on the input of the objective function and input file arguments.\n",
    "* The following optimizer class can be used independently if the input file and objective functions are provided. \n",
    "\n",
    "#### Return: \n",
    "* optimize_fm: A Python instance initialized by parsing the input file arguments and take the objective function\n",
    "* optimization starts by calling the method \"run_optimization(), which implements an in-house Nelder-Mead simplex algorithm\""
   ]
  },
  {
   "cell_type": "code",
   "execution_count": null,
   "metadata": {},
   "outputs": [],
   "source": [
    "\n",
    "\n",
    "optimize_fm = (optimizer\n",
    "               .gradient_free\n",
    "               .NelderMeadSimplex(\n",
    "                   INPUT,\n",
    "                   eval_objective,\n",
    "                   skipped=last_line,\n",
    "                   Output=JOBID+\"/Output\"))\n",
    "\n",
    "# run optimization ...\n",
    "# Don't run for the tutorial\n",
    "optimize_fm.run_optimization()\n",
    " \n"
   ]
  }
 ],
 "metadata": {
  "kernelspec": {
   "display_name": "Python 3",
   "language": "python",
   "name": "python3"
  },
  "language_info": {
   "codemirror_mode": {
    "name": "ipython",
    "version": 3
   },
   "file_extension": ".py",
   "mimetype": "text/x-python",
   "name": "python",
   "nbconvert_exporter": "python",
   "pygments_lexer": "ipython3",
   "version": "3.7.6"
  }
 },
 "nbformat": 4,
 "nbformat_minor": 4
}
